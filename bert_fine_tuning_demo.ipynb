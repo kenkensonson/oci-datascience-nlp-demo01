{
 "cells": [
  {
   "cell_type": "markdown",
   "metadata": {},
   "source": [
    "### BERT Fine-tuning のデモ\n",
    "#### 2020/11/30 Oracle Big Data Jam Sessionで実施した簡易デモ"
   ]
  },
  {
   "cell_type": "code",
   "execution_count": null,
   "metadata": {},
   "outputs": [],
   "source": [
    "##############################################################################################\n",
    "#事前準備\n",
    "# pip install torch\n",
    "# pip install transformers\n",
    "# pip install catalyst\n",
    "# pip install setuptools\n",
    "# pip install toiro[all]　#奈良先端科学技術大学院大学の研究室で作成されたライブラリtoiroを利用\n",
    "##############################################################################################"
   ]
  },
  {
   "cell_type": "code",
   "execution_count": 1,
   "metadata": {},
   "outputs": [],
   "source": [
    "#ライブラリのimport\n",
    "from toiro import classifiers\n",
    "from toiro import datadownloader"
   ]
  },
  {
   "cell_type": "code",
   "execution_count": 2,
   "metadata": {},
   "outputs": [
    {
     "name": "stdout",
     "output_type": "stream",
     "text": [
      "yahoo_movie_reviews (yahoo-movie-reviews.json.tar.gz) exists in /home/datascience/toiro_resources .\n"
     ]
    }
   ],
   "source": [
    "#追加学習のコーパスのダウンロードして定義\n",
    "corpus = 'yahoo_movie_reviews'\n",
    "datadownloader.download_corpus(corpus)"
   ]
  },
  {
   "cell_type": "code",
   "execution_count": 3,
   "metadata": {},
   "outputs": [],
   "source": [
    "#学習データ、開発データ、テストデータ\n",
    "train_df, dev_df, test_df = datadownloader.load_corpus(corpus, n=12500)"
   ]
  },
  {
   "cell_type": "code",
   "execution_count": 4,
   "metadata": {},
   "outputs": [],
   "source": [
    "#追加学習の分類モデルを定義\n",
    "#BERTClassificationModel()は別クラスで事前学習済みBERTモデルとファインチューニング用\n",
    "#パラメータの設定変更などが定義されている\n",
    "model = classifiers.BERTClassificationModel()"
   ]
  },
  {
   "cell_type": "code",
   "execution_count": 7,
   "metadata": {},
   "outputs": [
    {
     "name": "stdout",
     "output_type": "stream",
     "text": [
      "1/1 * Epoch (train): 100% 625/625 [03:04<00:00,  3.38it/s, accuracy01=0.875, loss=0.264]\n",
      "1/1 * Epoch (valid): 100% 79/79 [00:09<00:00,  8.68it/s, accuracy01=1.000, loss=0.021]\n",
      "[2020-11-30 09:38:46,906] \n",
      "1/1 * Epoch 1 (_base): lr=5.000e-05 | momentum=0.9000\n",
      "1/1 * Epoch 1 (train): accuracy01=0.8607 | loss=0.3249\n",
      "1/1 * Epoch 1 (valid): accuracy01=0.9184 | loss=0.2170\n"
     ]
    },
    {
     "name": "stderr",
     "output_type": "stream",
     "text": [
      "\n",
      "1/1 * Epoch 1 (_base): lr=5.000e-05 | momentum=0.9000\n",
      "1/1 * Epoch 1 (train): accuracy01=0.8607 | loss=0.3249\n",
      "1/1 * Epoch 1 (valid): accuracy01=0.9184 | loss=0.2170\n"
     ]
    }
   ],
   "source": [
    "#追加学習の分類モデルを訓練\n",
    "model.fit(train_df, dev_df, verbose=True)"
   ]
  },
  {
   "cell_type": "code",
   "execution_count": 11,
   "metadata": {},
   "outputs": [
    {
     "name": "stdout",
     "output_type": "stream",
     "text": [
      "1\n"
     ]
    }
   ],
   "source": [
    "#予測\n",
    "text = \"これはトップガンの最新作だね。前作は全然面白くなかったけど、今回は面白かったよ。\"\n",
    "pred_y = model.predict(text)\n",
    "print(pred_y)"
   ]
  }
 ],
 "metadata": {
  "kernelspec": {
   "display_name": "test10",
   "language": "python",
   "name": "test10"
  },
  "language_info": {
   "codemirror_mode": {
    "name": "ipython",
    "version": 3
   },
   "file_extension": ".py",
   "mimetype": "text/x-python",
   "name": "python",
   "nbconvert_exporter": "python",
   "pygments_lexer": "ipython3",
   "version": "3.6.10"
  }
 },
 "nbformat": 4,
 "nbformat_minor": 4
}
